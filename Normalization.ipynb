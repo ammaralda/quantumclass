{
  "nbformat": 4,
  "nbformat_minor": 0,
  "metadata": {
    "colab": {
      "provenance": [],
      "collapsed_sections": [],
      "toc_visible": true,
      "authorship_tag": "ABX9TyNHtPyXt7OTEw4fsmqpLwX7",
      "include_colab_link": true
    },
    "kernelspec": {
      "name": "python3",
      "display_name": "Python 3"
    },
    "language_info": {
      "name": "python"
    }
  },
  "cells": [
    {
      "cell_type": "markdown",
      "metadata": {
        "id": "view-in-github",
        "colab_type": "text"
      },
      "source": [
        "<a href=\"https://colab.research.google.com/github/ammaralda/quantumclass/blob/main/Normalization.ipynb\" target=\"_parent\"><img src=\"https://colab.research.google.com/assets/colab-badge.svg\" alt=\"Open In Colab\"/></a>"
      ]
    },
    {
      "cell_type": "code",
      "execution_count": 1,
      "metadata": {
        "id": "_1Mx1O2Fmh6w"
      },
      "outputs": [],
      "source": [
        "import numpy as np"
      ]
    },
    {
      "cell_type": "code",
      "source": [
        "a = 2 + 1j\n",
        "b = 4 + 3j"
      ],
      "metadata": {
        "id": "aRO77BzZnTtw"
      },
      "execution_count": 2,
      "outputs": []
    },
    {
      "cell_type": "code",
      "source": [
        "x = np.array([a,b])"
      ],
      "metadata": {
        "colab": {
          "base_uri": "https://localhost:8080/"
        },
        "id": "YT9WZWG3oXmG",
        "outputId": "6029c6c2-e996-4e9f-8ef0-6c98a2ec2607"
      },
      "execution_count": 4,
      "outputs": [
        {
          "output_type": "execute_result",
          "data": {
            "text/plain": [
              "array([2.+1.j, 4.+3.j])"
            ]
          },
          "metadata": {},
          "execution_count": 4
        }
      ]
    },
    {
      "cell_type": "code",
      "source": [
        "def norm(vector):\n",
        "  def coeffLength(coeff):\n",
        "    return np.real(coeff*np.conj(coeff))\n",
        "  def totalLength():\n",
        "    sum = 0\n",
        "    for i in vector:\n",
        "      sum += coeffLength(i)\n",
        "    return sum**(0.5)\n",
        "  totalSum = np.array(totalLength())\n",
        "  return vector / totalSum"
      ],
      "metadata": {
        "id": "XuUcbJj6oltN"
      },
      "execution_count": 5,
      "outputs": []
    },
    {
      "cell_type": "code",
      "source": [
        "norm(x)"
      ],
      "metadata": {
        "colab": {
          "base_uri": "https://localhost:8080/"
        },
        "id": "_LRfqxWDpn0j",
        "outputId": "25de0f26-25dc-4282-beea-3689d24f2b80"
      },
      "execution_count": 6,
      "outputs": [
        {
          "output_type": "execute_result",
          "data": {
            "text/plain": [
              "array([0.36514837+0.18257419j, 0.73029674+0.54772256j])"
            ]
          },
          "metadata": {},
          "execution_count": 6
        }
      ]
    }
  ]
}